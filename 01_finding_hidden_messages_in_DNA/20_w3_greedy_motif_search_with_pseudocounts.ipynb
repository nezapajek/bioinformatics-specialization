{
 "cells": [
  {
   "cell_type": "markdown",
   "metadata": {},
   "source": [
    "### Greedy Motif Search"
   ]
  },
  {
   "cell_type": "code",
   "execution_count": 7,
   "metadata": {},
   "outputs": [],
   "source": [
    "filename_test = 'data/20_sample_input.txt'\n",
    "filename = 'data/20_dataset.txt'"
   ]
  },
  {
   "cell_type": "code",
   "execution_count": 8,
   "metadata": {},
   "outputs": [],
   "source": [
    "def parse_data(file_path):\n",
    "    with open(file_path) as file:\n",
    "        lines = file.readlines()\n",
    "        dna = lines[1].split()\n",
    "        k, t = map(int, lines[0].strip().split())\n",
    "    return k, t, dna"
   ]
  },
  {
   "cell_type": "code",
   "execution_count": 9,
   "metadata": {},
   "outputs": [],
   "source": [
    "k, t, dna = parse_data(filename_test)"
   ]
  },
  {
   "cell_type": "code",
   "execution_count": 10,
   "metadata": {},
   "outputs": [],
   "source": [
    "\n",
    "def read_data_from(filename):\n",
    "    with open(filename) as f:\n",
    "        data = f.readlines()\n",
    "\n",
    "    for i in range(0, len(data)):\n",
    "        data[i] = data[i].strip()\n",
    "\n",
    "    return data\n",
    "\n",
    "profileRow = {'A': 0, 'C':1, 'G':2, 'T':3}\n",
    "def make_profile(kmers):\n",
    "    \"\"\" return list of dictionaries where each dictionary is column of the profile \"\"\"\n",
    "\n",
    "    if len(kmers) == 0:\n",
    "        print (\"None!!!\")\n",
    "        return None\n",
    "\n",
    "    k = len(kmers[0])\n",
    "    t = len(kmers)\n",
    "    profile = list(dict())\n",
    "    for i in range(k):\n",
    "        profile_column = {'A':1, 'C':1, 'G':1, 'T':1}\n",
    "        for j in range(t):\n",
    "            profile_column[kmers[j][i]] += 1\n",
    "\n",
    "        for key in profile_column.keys():\n",
    "            profile_column[key] = 1.0 * profile_column[key] / t\n",
    "\n",
    "        profile.append(profile_column)\n",
    "\n",
    "    return profile\n",
    "\n",
    "def pattern_probability(profile, pattern):\n",
    "    probability = 1\n",
    "    for i in range(0, len(pattern)):\n",
    "        probability *= profile[i][pattern[i]]\n",
    "\n",
    "    return probability\n",
    "\n",
    "def profile_most_probable_kmer(dna, profile, k):\n",
    "    start = 0\n",
    "    length = len(dna)\n",
    "    max_probability = 0\n",
    "    most_probable = dna[0:k]\n",
    "    while start + k <= length:\n",
    "        substr = dna[start:start+k]\n",
    "        probability = pattern_probability(profile, substr)\n",
    "        if probability > max_probability:\n",
    "            most_probable = substr\n",
    "            max_probability = probability\n",
    "\n",
    "        start += 1\n",
    "\n",
    "    return most_probable\n",
    "\n",
    "def hamming_dist(str_one, str_two):\n",
    "    \"\"\" returns number of hamming_dist between two strings \"\"\"\n",
    "\n",
    "    len_one = len(str_one)\n",
    "    len_two = len(str_two)\n",
    "    if len_one != len_two:\n",
    "        raise ValueError(\"Strings have different lengths.\")\n",
    "\n",
    "    mismatches = 0\n",
    "    for i in range(len_one):\n",
    "        if str_one[i] != str_two[i]:\n",
    "            mismatches += 1\n",
    "\n",
    "    return mismatches\n",
    "\n",
    "def make_consensus(motifes):\n",
    "    profile = make_profile(motifes)\n",
    "    consensus_list = list()\n",
    "    for item in profile:\n",
    "        consensus_list.append(max(item, key=item.get))\n",
    "\n",
    "    return ''.join(consensus_list)\n",
    "\n",
    "def score(motifes):\n",
    "    consensus = make_consensus(motifes)\n",
    "    score = 0\n",
    "    for motif in motifes:\n",
    "        score += hamming_dist(consensus, motif)\n",
    "\n",
    "    return score\n",
    "\n",
    "def greedy_motif_search(Dna, k, t):\n",
    "    if len(Dna) == 0:\n",
    "        print (\"None!!!\")\n",
    "        return None\n",
    "\n",
    "    best_motif = list()\n",
    "    for i in range(t):\n",
    "        best_motif.append(Dna[i][0:k])\n",
    "\n",
    "    start = 0\n",
    "    length = len(Dna[0])\n",
    "    while start + k <= length:\n",
    "        motifes = list()\n",
    "        motifes.append(Dna[0][start:start+k])\n",
    "        for i in range(1, t):\n",
    "            profile = make_profile(motifes[0:i])\n",
    "            motifes.append(profile_most_probable_kmer(Dna[i], profile, k))\n",
    "\n",
    "        if score(motifes) < score(best_motif):\n",
    "            best_motif = motifes[:]\n",
    "\n",
    "        start += 1\n",
    "\n",
    "    return best_motif"
   ]
  },
  {
   "cell_type": "code",
   "execution_count": 11,
   "metadata": {},
   "outputs": [
    {
     "name": "stdout",
     "output_type": "stream",
     "text": [
      "TTC ATC TTC ATC TTC\n"
     ]
    }
   ],
   "source": [
    "# test data\n",
    "k, t, dna = parse_data(filename_test)\n",
    "\n",
    "best_motifs = greedy_motif_search(dna, k, t)\n",
    "print(*best_motifs)"
   ]
  },
  {
   "cell_type": "code",
   "execution_count": 12,
   "metadata": {},
   "outputs": [
    {
     "name": "stdout",
     "output_type": "stream",
     "text": [
      "AAATCTAGGCTT AAATCTACGTTG AGGTCTGCGCTC AATTCTGCGTTG AACTCCTCGGTG AAATCTCCGATG AACTCCCCGGTG AAGTCTTCGGTG AATTCACCGCTG AAGTCTGCGCTG AAATCGCCGATG AAATCGCCGTTG AAATCTCCGTTG AAATCTTCGATG AACTCGGCGGTG AAGTCCCCGGTG AAGTCTGCGATG AAGTCAGCGGTG AATTCTACGCTG AAGTCTGCGCTG AAGTCGTCGTTG AACTCAACGCTG AAATCTTCGCTG AACTCGTCGATG AACTCAGCGTTG\n"
     ]
    }
   ],
   "source": [
    "# test data\n",
    "k, t, dna = parse_data(filename)\n",
    "\n",
    "best_motifs = greedy_motif_search(dna, k, t)\n",
    "print(*best_motifs)"
   ]
  }
 ],
 "metadata": {
  "kernelspec": {
   "display_name": "Python 3",
   "language": "python",
   "name": "python3"
  },
  "language_info": {
   "codemirror_mode": {
    "name": "ipython",
    "version": 3
   },
   "file_extension": ".py",
   "mimetype": "text/x-python",
   "name": "python",
   "nbconvert_exporter": "python",
   "pygments_lexer": "ipython3",
   "version": "3.9.6"
  }
 },
 "nbformat": 4,
 "nbformat_minor": 2
}
