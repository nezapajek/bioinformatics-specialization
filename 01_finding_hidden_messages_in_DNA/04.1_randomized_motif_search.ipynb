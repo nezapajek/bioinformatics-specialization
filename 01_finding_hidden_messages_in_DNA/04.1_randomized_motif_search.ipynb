{
 "cells": [
  {
   "cell_type": "markdown",
   "metadata": {},
   "source": [
    "### Implement RandomizedMotifSearch."
   ]
  },
  {
   "cell_type": "markdown",
   "metadata": {},
   "source": [
    "**Input**: Integers k and t, followed by a space-separated collection of strings Dna. \\\n",
    "**Output**: A collection BestMotifs resulting from running RandomizedMotifSearch(Dna, k, t) 1,000 times. Remember to use pseudocounts!"
   ]
  },
  {
   "cell_type": "code",
   "execution_count": 10,
   "metadata": {},
   "outputs": [],
   "source": [
    "filename_test = 'data/04.1_sample_input.txt'\n",
    "filename = 'data/04.1_dataset.txt'"
   ]
  },
  {
   "cell_type": "code",
   "execution_count": 11,
   "metadata": {},
   "outputs": [],
   "source": [
    "def parse_data(file_path):\n",
    "    with open(file_path) as file:\n",
    "        lines = file.readlines()\n",
    "        dna = lines[1].split()\n",
    "        k, t = map(int, lines[0].strip().split())\n",
    "    return k, t, dna\n",
    "\n",
    "k, t, dna = parse_data(filename_test)"
   ]
  },
  {
   "cell_type": "code",
   "execution_count": 12,
   "metadata": {},
   "outputs": [],
   "source": [
    "import random\n",
    "\n",
    "def _motifs(profile, Dna):\n",
    "    motifs = []\n",
    "    t = len(Dna)\n",
    "    k = len(profile['A'])\n",
    "\n",
    "    for i in range(t):\n",
    "        motifs.append(profile_most_probable_kmer(Dna[i], k, profile))\n",
    "\n",
    "    return motifs\n",
    "\n",
    "def random_motifs(Dna, k, t):\n",
    "    randMotifs = []\n",
    "\n",
    "    for i in range(t):\n",
    "        x = random.randint(0, t)\n",
    "        randMotifs.append(Dna[i][x:x+k])\n",
    "\n",
    "    return randMotifs\n",
    "\n",
    "\n",
    "def profile_most_probable_kmer(text, k, profile):\n",
    "    mostProbVal = -1\n",
    "    mostProbKmer = ''\n",
    "\n",
    "    for i in range(0, 1 + len(text) - k):\n",
    "        kmer = text[i:i+k]\n",
    "        probKmerVal = _pr(kmer, profile)\n",
    "        if probKmerVal > mostProbVal:\n",
    "            mostProbVal = probKmerVal\n",
    "            mostProbKmer = kmer\n",
    "\n",
    "    return mostProbKmer\n",
    "\n",
    "\n",
    "def _pr(text, profile):\n",
    "    P = 1\n",
    "\n",
    "    for i in range(len(text)):\n",
    "        P = P * profile[text[i]][i]\n",
    "\n",
    "    return P\n",
    "\n",
    "def profile_with_pseudocounts(motifs):\n",
    "    profile = {}\n",
    "    t = len(motifs)\n",
    "    k = len(motifs[0])\n",
    "    countMotifs = count_with_pseudocounts(motifs)\n",
    "\n",
    "    for symbol in \"ACGT\":\n",
    "        profile[symbol] = []\n",
    "\n",
    "    for x in countMotifs:\n",
    "        for y in countMotifs[x]:\n",
    "            z = y/float(t+4)\n",
    "            profile[x].append(z)\n",
    "\n",
    "    return profile\n",
    "\n",
    "def count_with_pseudocounts(motifs):\n",
    "    count = {}\n",
    "    pseudocounts = {}\n",
    "    t = len(motifs)\n",
    "    k = len(motifs[0])\n",
    "\n",
    "    for symbol in \"GACT\":\n",
    "        count[symbol] = []\n",
    "        for j in range(k):\n",
    "            count[symbol].append(0)\n",
    "\n",
    "    for i in range(t):\n",
    "        for j in range(k):\n",
    "            symbol = motifs[i][j]\n",
    "            count[symbol][j] += 1\n",
    "\n",
    "    for symbol in \"GACT\":\n",
    "        pseudocounts[symbol] = []\n",
    "\n",
    "    for x in count:\n",
    "        for y in count[x]:\n",
    "            z = y + 1\n",
    "            pseudocounts[x].append(z)\n",
    "\n",
    "    return pseudocounts\n",
    "\n",
    "def _score(motifs):\n",
    "    count = 0\n",
    "    k = len(motifs[0])\n",
    "    t = len(motifs)\n",
    "    consensusMotif = _consensus(motifs)\n",
    "\n",
    "    for i in range(t):\n",
    "        for j in range(k):\n",
    "            if motifs[i][j] != consensusMotif[j]:\n",
    "                count += 1\n",
    "\n",
    "    return count\n",
    "\n",
    "def _consensus(motifs):\n",
    "    k = len(motifs[0])\n",
    "    count = count_with_pseudocounts(motifs)\n",
    "    consensus = \"\"\n",
    "\n",
    "    for j in range(k):\n",
    "        M = 0\n",
    "        frequentSymbol = \"\"\n",
    "        for symbol in \"ACGT\":\n",
    "            if count[symbol][j] > M:\n",
    "                M = count[symbol][j]\n",
    "                frequentSymbol = symbol\n",
    "        consensus += frequentSymbol\n",
    "\n",
    "    return consensus\n",
    "\n",
    "N = 1000\n",
    "def randomized_motif_search(Dna, k, t):\n",
    "    M = random_motifs(Dna, k, t)\n",
    "    bestMotifs = M\n",
    "    while True:\n",
    "        profile = profile_with_pseudocounts(M)\n",
    "        M = _motifs(profile, Dna)\n",
    "        if _score(M) < _score(bestMotifs):\n",
    "            bestMotifs = M\n",
    "        else:\n",
    "            return bestMotifs\n",
    "        \n"
   ]
  },
  {
   "cell_type": "code",
   "execution_count": 13,
   "metadata": {},
   "outputs": [
    {
     "name": "stdout",
     "output_type": "stream",
     "text": [
      "TTCGCGGGAGTCGTG CTCTTGACAGTCATG CTCAGCACTAACATG CTCAGCAACATCATG CTCAGCACAGTAGAG CTCAGATGAGTCATG AGAAGCACAGTCATG CTCACGTCAGTCATG CTCAGCACAGCGGTG CTCAGCTACGTCATG CTCATTTCAGTCATG GGCAGCACAGTCATA CCATGCACAGTCATG CTCAGCACATAGATG CTGTACACAGTCATG CTCAGCGAGGTCATG CTCAGCACAGTCCCA ATCAGCACAGTCACA CTCAGGGTAGTCATG CTCCTTACAGTCATG\n"
     ]
    }
   ],
   "source": [
    "randomized_motif_search(dna, k, t)\n",
    "M = randomized_motif_search(dna, k, t)\n",
    "bMotifs = M\n",
    "\n",
    "for i in range(N+1):\n",
    "    M = randomized_motif_search(dna, k, t)\n",
    "    if _score(M) < _score(bMotifs):\n",
    "         bMotifs = M\n",
    "    else:\n",
    "        bestMotifs = bMotifs\n",
    "\n",
    "print (' '.join(bestMotifs))"
   ]
  },
  {
   "cell_type": "markdown",
   "metadata": {},
   "source": [
    "Exercise Break: Compute the probability that ten randomly selected 15-mers from the ten 600-nucleotide long strings in the Subtle Motif Problem capture at least one implanted 15-mer. (Allowable error: 0.000001)"
   ]
  },
  {
   "cell_type": "code",
   "execution_count": 14,
   "metadata": {},
   "outputs": [
    {
     "name": "stdout",
     "output_type": "stream",
     "text": [
      "Probability of capturing at least one motif: 0.016934\n"
     ]
    }
   ],
   "source": [
    "total_nucleotides = 600\n",
    "\n",
    "k = 15  # Length of each motif\n",
    "\n",
    "num_selected_motifs = 10  # Number of motifs selected\n",
    "\n",
    " \n",
    "\n",
    "# Calculate the total number of possible k-mers in a 600-nucleotide string\n",
    "\n",
    "total_kmers = total_nucleotides - k + 1\n",
    "\n",
    " \n",
    "\n",
    "# Calculate the probability of not capturing the motif with one k-mer\n",
    "\n",
    "prob_not_capturing_one_kmer = (total_kmers - 1) / total_kmers\n",
    "\n",
    " \n",
    "\n",
    "# Calculate the probability of not capturing the motif with ten k-mers\n",
    "\n",
    "prob_not_capturing_ten_kmers = prob_not_capturing_one_kmer ** num_selected_motifs\n",
    "\n",
    " \n",
    "\n",
    "# Calculate the probability of capturing at least one motif with ten k-mers\n",
    "\n",
    "prob_capturing_at_least_one = 1 - prob_not_capturing_ten_kmers\n",
    "\n",
    " \n",
    "\n",
    "print(f\"Probability of capturing at least one motif: {prob_capturing_at_least_one:.6f}\")"
   ]
  },
  {
   "cell_type": "markdown",
   "metadata": {},
   "source": [
    "Exercise Break: Compute the probability that ten randomly selected 15-mers from ten 600-nucleotide long strings (as in the Subtle Motif Problem) capture at least two implanted 15-mers. (Allowable error: 0.000001)"
   ]
  },
  {
   "cell_type": "code",
   "execution_count": 15,
   "metadata": {},
   "outputs": [
    {
     "name": "stdout",
     "output_type": "stream",
     "text": [
      "Probability of capturing at least one motif: 0.016934\n",
      "0.016934\n",
      "0.000130\n"
     ]
    }
   ],
   "source": [
    "total_nucleotides = 600\n",
    "\n",
    "k = 15  # Length of each motif\n",
    "\n",
    "num_selected_motifs = 10  # Number of motifs selected\n",
    "\n",
    "# Calculate the total number of possible k-mers in a 600-nucleotide string\n",
    "\n",
    "total_kmers = total_nucleotides - k + 1\n",
    "\n",
    "# Calculate the probability of not capturing the motif with one k-mer\n",
    "\n",
    "prob_not_capturing_one_kmer = (total_kmers - 1) / total_kmers\n",
    "\n",
    "# Calculate the probability of not capturing the motif with ten k-mers\n",
    "\n",
    "prob_not_capturing_ten_kmers = prob_not_capturing_one_kmer ** num_selected_motifs\n",
    "\n",
    "# Calculate the probability of capturing at least one motif with ten k-mers\n",
    "\n",
    "prob_capturing_at_least_one = 1 - prob_not_capturing_ten_kmers\n",
    "\n",
    "r=prob_capturing_at_least_one\n",
    "\n",
    "print(f\"Probability of capturing at least one motif: {prob_capturing_at_least_one:.6f}\")\n",
    "\n",
    "q=1/586 * ((585/586) ** 9)\n",
    "\n",
    "print(f\"{r:.6f}\")\n",
    "\n",
    "p=r-q*10\n",
    "\n",
    "print(f'{p:.6f}')"
   ]
  },
  {
   "cell_type": "markdown",
   "metadata": {},
   "source": [
    "test no5.\n",
    "\n",
    "What are the 3-mers after one iteration of RandomizedMotifSearch?  In other words, what are the 3-mers Motifs(Profile(Motifs), Dna)?  Please enter your answer as four space-separated strings."
   ]
  },
  {
   "cell_type": "code",
   "execution_count": 26,
   "metadata": {},
   "outputs": [
    {
     "data": {
      "text/plain": [
       "'TGA TAA GGA TGT'"
      ]
     },
     "execution_count": 26,
     "metadata": {},
     "output_type": "execute_result"
    }
   ],
   "source": [
    "dna = ['TGACGTTC','TAAGAGTT','GGACGAAA','CTGTTCGC']\n",
    "k = 3\n",
    "t = 4\n",
    "random_motifs = ['TGA','GTT','GAA','TGT']\n",
    "\n",
    "N = 1\n",
    "def randomized_motif_search(Dna, k, t):\n",
    "    M = random_motifs\n",
    "    bestMotifs = M\n",
    "    while True:\n",
    "        profile = profile_with_pseudocounts(M)\n",
    "        M = _motifs(profile, Dna)\n",
    "        if _score(M) < _score(bestMotifs):\n",
    "            bestMotifs = M\n",
    "        else:\n",
    "            return bestMotifs\n",
    "        \n",
    "' '.join(randomized_motif_search(dna, k, t))"
   ]
  }
 ],
 "metadata": {
  "kernelspec": {
   "display_name": "Python 3",
   "language": "python",
   "name": "python3"
  },
  "language_info": {
   "codemirror_mode": {
    "name": "ipython",
    "version": 3
   },
   "file_extension": ".py",
   "mimetype": "text/x-python",
   "name": "python",
   "nbconvert_exporter": "python",
   "pygments_lexer": "ipython3",
   "version": "3.9.6"
  }
 },
 "nbformat": 4,
 "nbformat_minor": 2
}
