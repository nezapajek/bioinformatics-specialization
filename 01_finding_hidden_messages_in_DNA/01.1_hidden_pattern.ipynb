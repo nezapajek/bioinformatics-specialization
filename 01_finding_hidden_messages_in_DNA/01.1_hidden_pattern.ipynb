{
 "cells": [
  {
   "cell_type": "code",
   "execution_count": 2,
   "metadata": {},
   "outputs": [],
   "source": [
    "test_text = 'CTGCCTTAAGCCTTAAATCGCGAGCCTTAAGCCTTAAAGCCTTAATCGGCAGCCTTAAGAGGCCTTAAAACATTGTGCCTGCCTTAACTCGCCTTAACGCCTTAAGCCTTAAGCCTTAACGCCTTAAATGGCCTTAAGACGAGCCTTAATCGTTATTTGATGCCTTAAGGCCTTAAAGCCTTAAGCCTTAATTGGTCACGCCTTAAAGCCTTAACGCCTTAATGCCTTAATCGCCTTAATGCCTTAAAGCGCCTTAATTGCCTTAAGCCTTAAGCCTTAAGCCTTAATCGCCTTAAGCCTTAAGCCTTAACCGCCTTAAGCCTTAACAGCCTTAACTCTGCCTTAATTAGCCTTAATTGCCTTAAATATGGGGAGCCTTAAACGCCTTAAGCCTTAATGCCTTAACGGCCTTAAGCGCCTTAACGCCTTAACGCCTTAATGCCTTAACTGGCCTTAACGGGGCGCCTTAAGTCCGCCTTAAACGCCTTAATTAGGGCCTTAAGCCTTAAAGCGCCTTAAAACGGGGCGCCTTAAACCACGTCGGCCTTAAGCCTTAAGTCGCCTTAAAGCCTTAAAGGCCTTAACTTTGCCTTAAGCCTTAATGCGCGCCTTAAGCCTTAACGGGCGGGCCTTAATAGAGCCTTAAGCCTTAATGCCTTAACTCACGCCTTAAGCCTTAAAGATATACGCCTTAAGTGCCTTAACGCGGCCTTAAGCCTTAATGCCTTAAGCCTTAACAGCCTTAAGCCTTAATTGGGCCTTAACGCACGCCTTAATGCCTTAAGCCTTAAGGCCGGTGGCCTTAACGCCTTAATTGCCTTAAAATATTAGCCTTAAGCCTTAACGCCTTAACTGCCTTAAGGCTACGCCTTAATTGCCTTAATAAGCCTTAAGCCTTAAAGCCTTAAGACAGCCTTAATAGCCTTAAATCTTCATTGCCTTAAGCCTTAAGCCTTAATTAAACCGCCTTAATACCGCCTTAA'\n",
    "test_pattern = 'GCCTTAAGC'"
   ]
  },
  {
   "cell_type": "code",
   "execution_count": 1,
   "metadata": {},
   "outputs": [],
   "source": [
    "test_text = 'ACTGTACGATGATGTGTGTCAAAG'\n",
    "test_pattern = 'TGT'"
   ]
  },
  {
   "cell_type": "code",
   "execution_count": 2,
   "metadata": {},
   "outputs": [],
   "source": [
    "def pattern_count(text, pattern):\n",
    "    count = 0\n",
    "    for idx,_ in enumerate(text):\n",
    "        if text[idx:idx+len(pattern)] == pattern:\n",
    "            count += 1\n",
    "    return count"
   ]
  },
  {
   "cell_type": "code",
   "execution_count": 3,
   "metadata": {},
   "outputs": [
    {
     "data": {
      "text/plain": [
       "4"
      ]
     },
     "execution_count": 3,
     "metadata": {},
     "output_type": "execute_result"
    }
   ],
   "source": [
    "pattern_count(test_text, test_pattern)"
   ]
  }
 ],
 "metadata": {
  "kernelspec": {
   "display_name": "Python 3",
   "language": "python",
   "name": "python3"
  },
  "language_info": {
   "codemirror_mode": {
    "name": "ipython",
    "version": 3
   },
   "file_extension": ".py",
   "mimetype": "text/x-python",
   "name": "python",
   "nbconvert_exporter": "python",
   "pygments_lexer": "ipython3",
   "version": "3.9.6"
  }
 },
 "nbformat": 4,
 "nbformat_minor": 2
}
