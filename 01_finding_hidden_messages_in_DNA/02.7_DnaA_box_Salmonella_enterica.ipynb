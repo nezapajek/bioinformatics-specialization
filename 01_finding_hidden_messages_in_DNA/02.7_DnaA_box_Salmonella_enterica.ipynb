{
 "cells": [
  {
   "cell_type": "markdown",
   "metadata": {},
   "source": [
    "#### find most frequent 9-mers with mismatches and reverse compelemtns in the region suggested by the minimum skew as ori\n",
    "get minimum skew, try a small window either starting, ending, or centered at the position of minimum skew."
   ]
  },
  {
   "cell_type": "code",
   "execution_count": 48,
   "metadata": {},
   "outputs": [],
   "source": [
    "from Bio import SeqIO"
   ]
  },
  {
   "cell_type": "markdown",
   "metadata": {},
   "source": [
    "Step 0: import data"
   ]
  },
  {
   "cell_type": "code",
   "execution_count": 49,
   "metadata": {},
   "outputs": [],
   "source": [
    "fasta_in = '/Users/npajek/Documents/fri_biolab/coursera/bioinformatics-specialization/01_finding_hidden_messages_in_DNA/data/Salmonella_enterica.txt'\n",
    "\n",
    "for record in SeqIO.parse(fasta_in, 'fasta'):\n",
    "    sequence = str(record.seq)"
   ]
  },
  {
   "cell_type": "markdown",
   "metadata": {},
   "source": [
    "step 1: Get minimum skew index"
   ]
  },
  {
   "cell_type": "code",
   "execution_count": 50,
   "metadata": {},
   "outputs": [
    {
     "name": "stdout",
     "output_type": "stream",
     "text": [
      "Indices with minimal skew: 3764856 3764858\n"
     ]
    }
   ],
   "source": [
    "def min_skew_idx(sequence):\n",
    "    skew = 0\n",
    "    skew_list = [0] + [skew := skew + (1 if nt == 'G' else -1 if nt == 'C' else 0) for nt in sequence]\n",
    "    min_value = min(skew_list)\n",
    "    min_indices = [i for i, x in enumerate(skew_list) if x == min_value]\n",
    "    return min_indices\n",
    "\n",
    "# Test the function\n",
    "min_skew_indices = min_skew_idx(sequence)\n",
    "print(\"Indices with minimal skew:\", *min_skew_indices, sep=' ')"
   ]
  },
  {
   "cell_type": "markdown",
   "metadata": {},
   "source": [
    "step2: select window"
   ]
  },
  {
   "cell_type": "code",
   "execution_count": 51,
   "metadata": {},
   "outputs": [],
   "source": [
    "region = sequence[min_skew_indices[0]:min_skew_indices[0]+500]"
   ]
  },
  {
   "cell_type": "markdown",
   "metadata": {},
   "source": [
    "step 3: identify most frequent 9-mers with 1 mismatch and reverse complements within this window"
   ]
  },
  {
   "cell_type": "code",
   "execution_count": 52,
   "metadata": {},
   "outputs": [],
   "source": [
    "def frequent_words(sequence, k):\n",
    "    kmer_freq = {}\n",
    "\n",
    "    for i in range(len(sequence) - k + 1):\n",
    "        kmer = sequence[i:i+k]\n",
    "        kmer_freq[kmer] = kmer_freq.get(kmer, 0) + 1\n",
    "    return kmer_freq\n",
    "\n",
    "# Define funtion find_clumps where k = kmer len, L = window len and t is number of occurrences\n",
    "def find_clumps(sequence, k, L, t):\n",
    "    patterns = []\n",
    "    for i in range(0, len(sequence)-L):\n",
    "        window = sequence[i: i+L]\n",
    "        freq_map = frequent_words(window, k)\n",
    "        patterns.extend([key for key, val in freq_map.items() if val >= t])\n",
    "    return set(patterns)\n",
    "\n",
    "# define hamming_distance\n",
    "def hamming_distance(p, q):\n",
    "    return sum(1 for x, y in zip(p, q) if x != y)\n",
    "\n",
    "# define reverse complement\n",
    "def reverse_complement(sequence):\n",
    "    complement = {'A': 'T', 'C': 'G', 'G': 'C', 'T': 'A'}\n",
    "    rc_seq = \"\".join(complement.get(base, base) for base in reversed(sequence))\n",
    "    return rc_seq\n",
    "\n",
    "def neighbors(pattern, d):\n",
    "    nucleotides = ['A', 'C', 'G', 'T']\n",
    "    if d == 0:\n",
    "        return {pattern}\n",
    "    if len(pattern) == 1:\n",
    "        return set(nucleotides)\n",
    "    neighborhood = set()\n",
    "    suffix_neighbors = neighbors(pattern[1:], d) #recursive call\n",
    "    for text in suffix_neighbors:\n",
    "        if hamming_distance(pattern[1:], text) < d:\n",
    "            for x in nucleotides:\n",
    "                neighborhood.add(x + text)\n",
    "        else:\n",
    "            neighborhood.add(pattern[0] + text)\n",
    "    return list(neighborhood)\n",
    "\n",
    "def frequent_words_with_mismatches(seq, k, d):\n",
    "    freq_map = {}\n",
    "    for i in range(0, len(seq)-k+1):\n",
    "        pattern = seq[i:i+k]\n",
    "        neighborhood = neighbors(pattern, d)\n",
    "        for j in range(0,len(neighborhood)-1):\n",
    "            neighbor = neighborhood[j]\n",
    "            freq_map[neighbor] = freq_map.get(neighbor, 0) + 1\n",
    "    for i in range(0, len(seq)-k+1):\n",
    "        pattern = reverse_complement(seq[i:i+k])\n",
    "        neighborhood = neighbors(pattern, d)\n",
    "        for j in range(0,len(neighborhood)-1):\n",
    "            neighbor = neighborhood[j]\n",
    "            freq_map[neighbor] = freq_map.get(neighbor, 0) + 1\n",
    "    m = max(freq_map.values())\n",
    "    patterns = [kmer for kmer, freq in freq_map.items() if freq == m]\n",
    "    return patterns"
   ]
  },
  {
   "cell_type": "code",
   "execution_count": 53,
   "metadata": {},
   "outputs": [
    {
     "data": {
      "text/plain": [
       "['CCCGGATCC', 'CGGATCCGG', 'GGATCCGGG', 'GGATCCTGG', 'CCAGGATCC', 'CCGGATCCG']"
      ]
     },
     "execution_count": 53,
     "metadata": {},
     "output_type": "execute_result"
    }
   ],
   "source": [
    "k = 9\n",
    "d = 1\n",
    "\n",
    "frequent_words_with_mismatches(region, k, d)"
   ]
  }
 ],
 "metadata": {
  "kernelspec": {
   "display_name": "Python 3",
   "language": "python",
   "name": "python3"
  },
  "language_info": {
   "codemirror_mode": {
    "name": "ipython",
    "version": 3
   },
   "file_extension": ".py",
   "mimetype": "text/x-python",
   "name": "python",
   "nbconvert_exporter": "python",
   "pygments_lexer": "ipython3",
   "version": "3.9.6"
  }
 },
 "nbformat": 4,
 "nbformat_minor": 2
}
