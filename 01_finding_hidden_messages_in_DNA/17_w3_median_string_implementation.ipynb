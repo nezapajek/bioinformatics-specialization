{
 "cells": [
  {
   "cell_type": "markdown",
   "metadata": {},
   "source": [
    "### Find a median string\n",
    "\n",
    "**Input**: An integer k, followed by a space-separated collection of strings Dna. \\\n",
    "**Output**: A k-mer Pattern that minimizes d(Pattern, Dna) among all possible choices of k-mers. (If there are multiple such strings Pattern, then you may return any one.)"
   ]
  },
  {
   "cell_type": "code",
   "execution_count": 7,
   "metadata": {},
   "outputs": [],
   "source": [
    "from itertools import product"
   ]
  },
  {
   "cell_type": "code",
   "execution_count": 14,
   "metadata": {},
   "outputs": [],
   "source": [
    "filename_test = 'data/median_string_test.txt'\n",
    "filename_data = 'data/median_string.txt'"
   ]
  },
  {
   "cell_type": "code",
   "execution_count": 15,
   "metadata": {},
   "outputs": [],
   "source": [
    "def parse_data(file_path):\n",
    "    with open(file_path) as file:\n",
    "        k, dna = int(file.readline()), file.readline().split()\n",
    "    return k, dna\n",
    "\n",
    "k, dna = parse_data(filename_data)"
   ]
  },
  {
   "cell_type": "code",
   "execution_count": 16,
   "metadata": {},
   "outputs": [],
   "source": [
    "def hamming_distance(s1, s2):\n",
    "    return sum(c1 != c2 for c1, c2 in zip(s1, s2))\n",
    "\n",
    "def all_possible_kmers(k):\n",
    "    nucleotides = ['A', 'C', 'G', 'T']\n",
    "    kmers = [''.join(x) for x in product(nucleotides, repeat=k)]\n",
    "    return kmers\n",
    "\n",
    "def total_distance(pattern, dna_list):\n",
    "    return sum(min(hamming_distance(pattern, dna[i:i+len(pattern)]) for i in range(len(dna) - len(pattern) + 1)) for dna in dna_list)\n",
    "\n",
    "def median_string(k, dna_list):\n",
    "    best_pattern = None\n",
    "    min_distance = float('inf') #unbounded upper value for comparison\n",
    "\n",
    "    for pattern in all_possible_kmers(k):\n",
    "        distance = total_distance(pattern, dna_list)\n",
    "        if distance < min_distance:\n",
    "            min_distance = distance\n",
    "            best_pattern = pattern\n",
    "\n",
    "    return best_pattern"
   ]
  },
  {
   "cell_type": "code",
   "execution_count": 17,
   "metadata": {},
   "outputs": [
    {
     "name": "stdout",
     "output_type": "stream",
     "text": [
      "ACTTGT\n"
     ]
    }
   ],
   "source": [
    "result = median_string(k, dna)\n",
    "print(result)"
   ]
  }
 ],
 "metadata": {
  "kernelspec": {
   "display_name": "Python 3",
   "language": "python",
   "name": "python3"
  },
  "language_info": {
   "codemirror_mode": {
    "name": "ipython",
    "version": 3
   },
   "file_extension": ".py",
   "mimetype": "text/x-python",
   "name": "python",
   "nbconvert_exporter": "python",
   "pygments_lexer": "ipython3",
   "version": "3.9.6"
  }
 },
 "nbformat": 4,
 "nbformat_minor": 2
}
