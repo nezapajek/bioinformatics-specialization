{
 "cells": [
  {
   "cell_type": "markdown",
   "metadata": {},
   "source": [
    "### Solve the Profile-most Probable k-mer Problem.\n",
    "\n",
    "**Input:** A string Text, an integer k, and a 4 × k matrix Profile.\\\n",
    "**Output:** A Profile-most probable k-mer in Text."
   ]
  },
  {
   "cell_type": "code",
   "execution_count": 4,
   "metadata": {},
   "outputs": [],
   "source": [
    "filename_test = 'data/greedy_motif_test.txt'\n",
    "filename_data = 'data/greedy_motif_search.txt'"
   ]
  },
  {
   "cell_type": "code",
   "execution_count": 28,
   "metadata": {},
   "outputs": [],
   "source": [
    "def parse_data(file_path):\n",
    "    with open(file_path) as file:\n",
    "        lines = file.readlines()\n",
    "        seq = lines[0].strip()\n",
    "        k = int(lines[1].strip())\n",
    "        matrix = [list(map(float, line.strip().split())) for line in lines[2:]]\n",
    "    return seq, k, matrix\n",
    "\n",
    "seq, k, matrix = parse_data(filename_data)"
   ]
  },
  {
   "cell_type": "code",
   "execution_count": 29,
   "metadata": {},
   "outputs": [],
   "source": [
    "def profile_most_probable_kmer(seq, k, profile):\n",
    "    max_prob = -1\n",
    "    most_probable_kmer = ''\n",
    "\n",
    "    # Iterate through every possible k-mer in the text\n",
    "    for i in range(len(seq) - k + 1):\n",
    "        kmer = seq[i:i+k]\n",
    "        prob = 1\n",
    "\n",
    "        # Calculate the probability of the current k-mer\n",
    "        for j in range(k):\n",
    "            if kmer[j] == 'A':\n",
    "                prob *= profile[0][j]\n",
    "            elif kmer[j] == 'C':\n",
    "                prob *= profile[1][j]\n",
    "            elif kmer[j] == 'G':\n",
    "                prob *= profile[2][j]\n",
    "            elif kmer[j] == 'T':\n",
    "                prob *= profile[3][j]\n",
    "\n",
    "        # Update the most probable k-mer if the current k-mer has higher probability\n",
    "        if prob > max_prob:\n",
    "            max_prob = prob\n",
    "            most_probable_kmer = kmer\n",
    "\n",
    "    return most_probable_kmer"
   ]
  },
  {
   "cell_type": "code",
   "execution_count": 30,
   "metadata": {},
   "outputs": [
    {
     "name": "stdout",
     "output_type": "stream",
     "text": [
      "TTATTTGCCTGGT\n"
     ]
    }
   ],
   "source": [
    "result = profile_most_probable_kmer(seq, k, matrix)\n",
    "print(result)"
   ]
  }
 ],
 "metadata": {
  "kernelspec": {
   "display_name": "Python 3",
   "language": "python",
   "name": "python3"
  },
  "language_info": {
   "codemirror_mode": {
    "name": "ipython",
    "version": 3
   },
   "file_extension": ".py",
   "mimetype": "text/x-python",
   "name": "python",
   "nbconvert_exporter": "python",
   "pygments_lexer": "ipython3",
   "version": "3.9.6"
  }
 },
 "nbformat": 4,
 "nbformat_minor": 2
}
