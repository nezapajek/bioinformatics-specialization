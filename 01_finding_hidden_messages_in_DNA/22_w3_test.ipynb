{
 "cells": [
  {
   "cell_type": "markdown",
   "metadata": {},
   "source": [
    "1. Which type of algorithm selects the most attractive choice at each step? \\\n",
    "Greedy algorithm "
   ]
  },
  {
   "cell_type": "markdown",
   "metadata": {},
   "source": [
    "2. True or false: a motif of lowest score with respect to a collection of strings must appear as a substring of one of the strings. \\\n",
    "False"
   ]
  },
  {
   "cell_type": "markdown",
   "metadata": {},
   "source": [
    "3. Order the following probability distributions from lowest to highest entropy: \n",
    "\n",
    "A: (0.5, 0, 0, 0.5)\n",
    "B: (0.25, 0.25, 0.25, 0.25)\n",
    "C: (0, 0, 0, 1)\n",
    "D: (0.25, 0, 0.5, 0.25)\n",
    "\n",
    "CADB"
   ]
  },
  {
   "cell_type": "markdown",
   "metadata": {},
   "source": [
    "4. Consider the following profile matrix:\n",
    "\n",
    "A:  0.4  0.3  0.0  0.1  0.0  0.9\n",
    "C:  0.2  0.3  0.0  0.4  0.0  0.1\n",
    "G:  0.1  0.3  1.0  0.1  0.5  0.0\n",
    "T:  0.3  0.1  0.0  0.4  0.5  0.0\n",
    "\n",
    "Which of the following strings is a consensus string for this profile matrix?  (Select all that apply.)\n",
    "\n",
    "ACGTTA, ACGCGA, AGGCTA"
   ]
  },
  {
   "cell_type": "markdown",
   "metadata": {},
   "source": [
    "5. Consider the following motif matrix:\n",
    "\n",
    "CTCGATGAGTAGGAAAGTAGTTTCACTGGGCGAACCACCCCGGCGCTAATCCTAGTGCCC\n",
    "\n",
    "GCAATCCTACCCGAGGCCACATATCAGTAGGAACTAGAACCACCACGGGTGGCTAGTTTC\n",
    "\n",
    "GGTGTTGAACCACGGGGTTAGTTTCATCTATTGTAGGAATCGGCTTCAAATCCTACACAG\n",
    "\n",
    "Which of the following 7-mers is a median string for this motif matrix? (Select all that apply.)\n",
    "\n",
    "GTAGGAA\n",
    "CGTGTAA"
   ]
  },
  {
   "cell_type": "markdown",
   "metadata": {},
   "source": [
    "6. Consider the following profile matrix Profile:\n",
    "\n",
    "A:  0.4  0.3  0.0  0.1  0.0  0.9\n",
    "\n",
    "C:  0.2  0.3  0.0  0.4  0.0  0.1\n",
    "\n",
    "G:  0.1  0.3  1.0  0.1  0.5  0.0\n",
    "\n",
    "T:  0.3  0.1  0.0  0.4  0.5  0.0\n",
    "\n",
    "Compute Pr(GAGCTA|Profile). (Express your answer as a decimal and do not round your answer.)"
   ]
  },
  {
   "cell_type": "code",
   "execution_count": 9,
   "metadata": {},
   "outputs": [
    {
     "data": {
      "text/plain": [
       "0.0054"
      ]
     },
     "execution_count": 9,
     "metadata": {},
     "output_type": "execute_result"
    }
   ],
   "source": [
    "0.1*0.3*1*0.4*0.5*0.9"
   ]
  }
 ],
 "metadata": {
  "kernelspec": {
   "display_name": "Python 3",
   "language": "python",
   "name": "python3"
  },
  "language_info": {
   "codemirror_mode": {
    "name": "ipython",
    "version": 3
   },
   "file_extension": ".py",
   "mimetype": "text/x-python",
   "name": "python",
   "nbconvert_exporter": "python",
   "pygments_lexer": "ipython3",
   "version": "3.9.6"
  }
 },
 "nbformat": 4,
 "nbformat_minor": 2
}
