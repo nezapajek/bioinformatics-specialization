{
 "cells": [
  {
   "cell_type": "code",
   "execution_count": 5,
   "metadata": {},
   "outputs": [],
   "source": [
    "test_text = 'CCGCACCGCGCAAGAGCAATTAGCCGCACCAGTTTACCTATCTTACAGCAATTAGAGCAATTAGAGCAATTAGGCGCAAGAGTTTACCTGCGCAAGCCGCACCGCGCAAGAGCAATTAGAGTTTACCTATCTTACAGCAATTAGATCTTACGCGCAAGGCGCAAGAGCAATTAGAGCAATTAGATCTTACGCGCAAGATCTTACGCGCAAGAGTTTACCTAGTTTACCTATCTTACAGTTTACCTAGCAATTAGATCTTACAGCAATTAGAGCAATTAGGCGCAAGGCGCAAGCCGCACCAGCAATTAGAGTTTACCTAGTTTACCTAGCAATTAGAGCAATTAGGCGCAAGATCTTACCCGCACCATCTTACAGCAATTAGATCTTACAGTTTACCTAGCAATTAGAGCAATTAGCCGCACCATCTTACAGCAATTAGATCTTACGCGCAAGAGCAATTAGAGTTTACCTAGCAATTAGGCGCAAGAGTTTACCTCCGCACCGCGCAAGGCGCAAGCCGCACCATCTTACAGCAATTAGGCGCAAGAGCAATTAGGCGCAAGATCTTACGCGCAAGATCTTACATCTTACATCTTACATCTTACAGCAATTAGATCTTACAGTTTACCTATCTTACGCGCAAGATCTTACATCTTACAGCAATTAGAGTTTACCTGCGCAAGAGTTTACCTGCGCAAGAGCAATTAGCCGCACCAGTTTACCTATCTTACCCGCACCGCGCAAGAGTTTACCTCCGCACCGCGCAAGAGCAATTAGAGTTTACCTAGTTTACCTATCTTACAGCAATTAGGCGCAAGAGTTTACCT'\n",
    "k = 11"
   ]
  },
  {
   "cell_type": "code",
   "execution_count": 1,
   "metadata": {},
   "outputs": [],
   "source": [
    "test_text = 'CGCCTAAATAGCCTCGCGGAGCCTTATGTCATACTCGTCCT'\n",
    "k = 3"
   ]
  },
  {
   "cell_type": "code",
   "execution_count": 2,
   "metadata": {},
   "outputs": [],
   "source": [
    "def pattern_count(sequence, pattern):\n",
    "    count = 0\n",
    "    for idx,_ in enumerate(sequence):\n",
    "        if sequence[idx:idx+len(pattern)] == pattern:\n",
    "            count += 1\n",
    "    return count"
   ]
  },
  {
   "cell_type": "code",
   "execution_count": 3,
   "metadata": {},
   "outputs": [],
   "source": [
    "def frequent_words(sequence, k):\n",
    "    kmer_freq = {}\n",
    "\n",
    "    for i in range(len(sequence) - k + 1):\n",
    "        kmer = sequence[i:i+k]\n",
    "        kmer_freq[kmer] = kmer_freq.get(kmer, 0) + 1\n",
    "    \n",
    "    max_freq = max(kmer_freq.values())\n",
    "    return [kmer for kmer, freq in kmer_freq.items() if freq == max_freq]"
   ]
  },
  {
   "cell_type": "code",
   "execution_count": 4,
   "metadata": {},
   "outputs": [
    {
     "data": {
      "text/plain": [
       "['CCT']"
      ]
     },
     "execution_count": 4,
     "metadata": {},
     "output_type": "execute_result"
    }
   ],
   "source": [
    "frequent_words(test_text, k)"
   ]
  },
  {
   "cell_type": "markdown",
   "metadata": {},
   "source": [
    "cool tip: "
   ]
  },
  {
   "cell_type": "code",
   "execution_count": null,
   "metadata": {},
   "outputs": [],
   "source": [
    "if kmer not in kmer_freq:\n",
    "    kmer_freq[kmer] = 1\n",
    "else:\n",
    "    kmer_freq[kmer] += 1\n",
    "\n",
    "# substitute with \n",
    "kmer_freq[kmer] = kmer_freq.get(kmer, 0) + 1 "
   ]
  }
 ],
 "metadata": {
  "kernelspec": {
   "display_name": "Python 3",
   "language": "python",
   "name": "python3"
  },
  "language_info": {
   "codemirror_mode": {
    "name": "ipython",
    "version": 3
   },
   "file_extension": ".py",
   "mimetype": "text/x-python",
   "name": "python",
   "nbconvert_exporter": "python",
   "pygments_lexer": "ipython3",
   "version": "3.9.6"
  }
 },
 "nbformat": 4,
 "nbformat_minor": 2
}
