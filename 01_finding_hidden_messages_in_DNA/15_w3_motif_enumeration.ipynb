{
 "cells": [
  {
   "cell_type": "markdown",
   "metadata": {},
   "source": [
    "### Implanted Morif Problem - find all (k,d)-motifs in a collection of strings"
   ]
  },
  {
   "cell_type": "markdown",
   "metadata": {},
   "source": [
    "Exhaustive search (brute force) \\\n",
    "explore all possible solution candidates"
   ]
  },
  {
   "cell_type": "code",
   "execution_count": 5,
   "metadata": {},
   "outputs": [],
   "source": [
    "def hamming_distance(s1, s2):\n",
    "    return sum(c1 != c2 for c1, c2 in zip(s1, s2))\n",
    "\n",
    "def generate_neighbors(pattern, d):\n",
    "    if d == 0:\n",
    "        return [pattern]\n",
    "    if len(pattern) == 1:\n",
    "        return ['A', 'C', 'G', 'T']\n",
    "    \n",
    "    neighborhood = set()\n",
    "    suffix_neighbors = generate_neighbors(pattern[1:], d)\n",
    "    for neighbor in suffix_neighbors:\n",
    "        if hamming_distance(pattern[1:], neighbor) < d:\n",
    "            for nucleotide in ['A', 'C', 'G', 'T']:\n",
    "                neighborhood.add(nucleotide + neighbor)\n",
    "        else:\n",
    "            neighborhood.add(pattern[0] + neighbor)\n",
    "    return list(neighborhood)\n",
    "\n",
    "def motif_enumeration(dna, k, d):\n",
    "    patterns = set()\n",
    "    for sequence in dna:\n",
    "        for i in range(len(sequence) - k + 1):\n",
    "            pattern = sequence[i:i+k]\n",
    "            neighborhood = generate_neighbors(pattern, d)\n",
    "            for neighbor in neighborhood:\n",
    "                found = True\n",
    "                for dna_sequence in dna:\n",
    "                    has_match = False\n",
    "                    for j in range(len(dna_sequence) - k + 1):\n",
    "                        if hamming_distance(neighbor, dna_sequence[j:j+k]) <= d:\n",
    "                            has_match = True\n",
    "                            break\n",
    "                    if not has_match:\n",
    "                        found = False\n",
    "                        break\n",
    "                if found:\n",
    "                    patterns.add(neighbor)\n",
    "    return list(patterns)"
   ]
  },
  {
   "cell_type": "code",
   "execution_count": 6,
   "metadata": {},
   "outputs": [
    {
     "name": "stdout",
     "output_type": "stream",
     "text": [
      "GTT TTT ATT ATA\n"
     ]
    }
   ],
   "source": [
    "# test\n",
    "dna = [\"ATTTGGC\", \"TGCCTTA\", \"CGGTATC\", \"GAAAATT\"]\n",
    "k = 3\n",
    "d = 1\n",
    "result = motif_enumeration(dna, k, d)\n",
    "print(*result)"
   ]
  },
  {
   "cell_type": "code",
   "execution_count": 8,
   "metadata": {},
   "outputs": [
    {
     "name": "stdout",
     "output_type": "stream",
     "text": [
      "TTATT TTATC TTATG TTATA\n"
     ]
    }
   ],
   "source": [
    "# sample\n",
    "dna = ['CCAGATTGCGCCTTATTATATGAGT', 'TGGTAAAGCAATCGTAACCATTATA', 'CGGTGCTGCTTTATGGCGTGGGTCA', 'TTTGATTATCTGAGGTAGCGGCAAC', 'TTATGCTGTCGCTAGATGGTCTCTC', 'GGTCGTTAATTTATGGCTAGTTCGC']\n",
    "k = 5\n",
    "d = 1\n",
    "result = motif_enumeration(dna, k, d)\n",
    "print(*result)"
   ]
  }
 ],
 "metadata": {
  "kernelspec": {
   "display_name": "Python 3",
   "language": "python",
   "name": "python3"
  },
  "language_info": {
   "codemirror_mode": {
    "name": "ipython",
    "version": 3
   },
   "file_extension": ".py",
   "mimetype": "text/x-python",
   "name": "python",
   "nbconvert_exporter": "python",
   "pygments_lexer": "ipython3",
   "version": "3.9.6"
  }
 },
 "nbformat": 4,
 "nbformat_minor": 2
}
