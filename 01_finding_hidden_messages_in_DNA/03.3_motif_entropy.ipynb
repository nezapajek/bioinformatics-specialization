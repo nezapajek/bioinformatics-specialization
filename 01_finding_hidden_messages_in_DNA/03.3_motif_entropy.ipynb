{
 "cells": [
  {
   "cell_type": "markdown",
   "metadata": {},
   "source": [
    "### Implanted Morif Problem - find all (k,d)-motifs in a collection of strings"
   ]
  },
  {
   "cell_type": "code",
   "execution_count": 36,
   "metadata": {},
   "outputs": [],
   "source": [
    "def count_motif_percent(motifs):\n",
    "    count = {}\n",
    "    columns = []\n",
    "    for i in range(len(motifs[0])):\n",
    "        columns.append([motif[i] for motif in motifs])\n",
    "    for i in range(len(columns)):\n",
    "        count[i] = {'A': columns[i].count('A')/len(columns[i]), 'C': columns[i].count('C')/len(columns[i]), 'G': columns[i].count('G')/len(columns[i]), 'T': columns[i].count('T')/len(columns[i])}\n",
    "\n",
    "    return count\n",
    "\n",
    "\n",
    "import math\n",
    "def motif_entropy(motifs):\n",
    "    entropy = 0\n",
    "    percents = count_motif_percent(motifs)\n",
    "    for i in range(len(percents)):\n",
    "        for nucleotide in percents[i]:\n",
    "            if percents[i][nucleotide] != 0:\n",
    "                entropy += percents[i][nucleotide] * math.log2(percents[i][nucleotide])\n",
    "    return -entropy"
   ]
  },
  {
   "cell_type": "code",
   "execution_count": 37,
   "metadata": {},
   "outputs": [],
   "source": [
    "data = [\"TCGGGGGTTTTT\",\"CCGGTGACTTAC\",\"ACGGGGATTTTC\",\"TTGGGGACTTTT\",\"AAGGGGACTTCC\",\"TTGGGGACTTCC\",\"TCGGGGATTCAT\",\"TCGGGGATTCCT\",\"TAGGGGAACTAC\",\"TCGGGTATAACC\"]"
   ]
  },
  {
   "cell_type": "code",
   "execution_count": 38,
   "metadata": {},
   "outputs": [
    {
     "data": {
      "text/plain": [
       "9.916290005356972"
      ]
     },
     "execution_count": 38,
     "metadata": {},
     "output_type": "execute_result"
    }
   ],
   "source": [
    "motif_entropy(data)"
   ]
  }
 ],
 "metadata": {
  "kernelspec": {
   "display_name": "Python 3",
   "language": "python",
   "name": "python3"
  },
  "language_info": {
   "codemirror_mode": {
    "name": "ipython",
    "version": 3
   },
   "file_extension": ".py",
   "mimetype": "text/x-python",
   "name": "python",
   "nbconvert_exporter": "python",
   "pygments_lexer": "ipython3",
   "version": "3.9.6"
  }
 },
 "nbformat": 4,
 "nbformat_minor": 2
}
