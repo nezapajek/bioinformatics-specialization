{
 "cells": [
  {
   "cell_type": "markdown",
   "metadata": {},
   "source": [
    "Solve the Clump Finding Problem"
   ]
  },
  {
   "cell_type": "code",
   "execution_count": 9,
   "metadata": {},
   "outputs": [],
   "source": [
    "def frequent_words(sequence, k):\n",
    "    kmer_freq = {}\n",
    "\n",
    "    for i in range(len(sequence) - k + 1):\n",
    "        kmer = sequence[i:i+k]\n",
    "        kmer_freq[kmer] = kmer_freq.get(kmer, 0) + 1\n",
    "    return kmer_freq"
   ]
  },
  {
   "cell_type": "code",
   "execution_count": 23,
   "metadata": {},
   "outputs": [],
   "source": [
    "# Define funtion find_clumps where k = kmer len, L = window len and t is number of occurrences\n",
    "def find_clumps(sequence, k, L, t):\n",
    "    patterns = []\n",
    "    for i in range(0, len(sequence)-L):\n",
    "        window = sequence[i: i+L]\n",
    "        freq_map = frequent_words(window, k)\n",
    "        patterns.extend([key for key, val in freq_map.items() if val >= t])\n",
    "    return set(patterns)"
   ]
  },
  {
   "cell_type": "code",
   "execution_count": 26,
   "metadata": {},
   "outputs": [
    {
     "name": "stdout",
     "output_type": "stream",
     "text": [
      "GCCACCAGGT ACCGGTCATT CCGGTCATTT TTGCCAGTTA TGTCTTTTAT GATTCTCCTG\n"
     ]
    }
   ],
   "source": [
    "test_seq = 'CTATGAAAAACTAGCAACAGATATCGTGAACCTGCGGGACAATCCTCTACCAGTTGCCCTGGGTCGACGTAAACGAGGGTAACTATCCGTTGTGCTTTGTGCCACGCTAATATAGCCTACGCTAGGCTTTGCCAGTTATTGCCAGTTACTTTTTTGCCTTGCCAGTTTTGCCAGTTAGCTCTCGGGCTCTTTGCCAGTTACGAGGTTGCCAGTTAGGCGAGGGCTCTCATCCGTCTGGAAGGTATCTAGCGACAAAATACATCACCGTTCGGGAGCTCAGGAATCATAAATCTTCAGCATTCCCATGTCCCGATTCGTATGCAATAAGTATTGGATGGATGCCACAGGACAACTCCAGAGTGGAAATTGCCAGTTGATTCGGCGAGTCGATTAGACGACTCGGGGACGTATTTGTCAGCCCGGGAATCGATTGGTACTTAAATTGGCGGGGTGCCGAATGTGGAGCAGGCCTTCTCGCCTTAGGCAGAGAATTCGTCTTGCTCGCGATCTGACCCTCTCCTCATCTACGAGATGTCAATCCTCCCGATTGACATGCGTATAAGCCACAAGGAGACCGTCTGCCAAGGGGACACAGGTATACGGGACGTTGTCTTTTATGCTTCTGTCTTGTCTTTTATTACTGACGCCGACGGATGTCTTTTATTTTTATTGTCTTTTTGTCTTTTATTGACACTACTTCGCATCCCTTCGTACTGACTTTGATCGGCACGCTTATTCGGCATGTCATGATGGGTATAACACTCGGTATCAGGCTGAATTTTCTTCGCATTATTCTTTGAGAAAGTTCTGCGGAGATATCCGACTCGTTTTTTTTCTAAGGAGTGCCACCGGCGGGCCCTAGGAGCTTCAGCGCTTCGGAAGGAATTTGCACGACGCTTACTTCACCGCCTGGACGAGTATCACAATATTAGCCTCGGGATAGGAACTACATCCAAGGGGTTATCTTCCCTTCCGGTCGATGCTTCGGACAATGATAGAGCCAGAATTTACCCAAACTTCTCATCGAAGCGGGAGTCTGAGGGACTACGGACGCATTGCGATTCTTCCCCAAATAATGATTCTTAGGGACGTAAAGAAGTCTACACCAAGAGGGTTTAATGAAGGCAGGCAAACGAGTCCACCGGAGTCTTCGCCCCCATTCGGACTCGCTGATGGCCCTCCGCAACATTGCTTCGGACTCGCACCTTCGGACTCGCGGAGCCACCAGGTCTCGTTCGGAGCCACCAGGTGACAGTTCCGCCGTCGCCACCAGGTCGGAGGGCCACCGCCACCAGGTCAGGTGGTATGTCTCAATGCCTACGGTATTCCCGCCGTTTTGCGGCAAACGATGACTACTATCGCCGCACTCACTTGAATCGTAGCTTCACACCCCCGCGCGTTTGACTACGAGGTACGAGTGCCAACTTTCCGAGACTATACGATACGAGGTCGGATTGAGATTAGCGAGCAACTCTATACCGGTCATTCGAGACCGGTCATTTACCGGTCATTGCCCGCGTCTAACCGGTCATTTCAATCACTTTACACCGGTCATTTAATTACCGGTCATTTTAGATTCTCCTGTCCTGATTCTCGATTCTCCTGCATTTGGCGATTCTCCTGACGCGATTCTCCTGGACGTGGCTAGATTCTCCTGATGGTACATCCTCACGAACGTCCGCATCGCATGGTACTTGGAGCGCATGGTACGTCAGCATGAACGACTCCGGCCGGGCGCAACTTGACTGAGGCATAGCTCGAGTGGTTACTTGAGCCGCCAATCACGTGACTATACTTCACACACAAGGCCGCCGCCGCCAATCTATCTGTTCCGTCCGTTGCTTGCCGTTGCTTGTGCACCGTTGAGAGAGAGTTTGTCTCCTCCGGCCTCACTCCGCAGCCGTTGCTTCCAGAGTTTGTCGAGTTTGTCGTTAGAGTTTGTCCTCTATGTTACACTCGGGATTCTGGAGAGAGAACTGTGCAACGACTTTGTGGTTCCC'\n",
    "test_k = 10\n",
    "test_L = 100\n",
    "test_t = 4\n",
    "\n",
    "print(*find_clumps(test_seq, test_k, test_L, test_t), sep=' ')"
   ]
  },
  {
   "cell_type": "markdown",
   "metadata": {},
   "source": [
    "If you think your solution is efficient enough, try it out on the E. coli genome, the workhorse of bacterial genomics."
   ]
  },
  {
   "cell_type": "code",
   "execution_count": 2,
   "metadata": {},
   "outputs": [],
   "source": [
    "ecoli = open('data/e_coli.txt').read()\n",
    "e_k = 9\n",
    "e_L = 500\n",
    "e_t = 3\n",
    "\n",
    "# too slow (computationally too expensive)"
   ]
  },
  {
   "cell_type": "markdown",
   "metadata": {},
   "source": [
    "Is it necessary to recompute the k-mers for every window or can we just compute the k-mers for the first window and then remove and add something from the frequency map each time the window shifts?"
   ]
  }
 ],
 "metadata": {
  "kernelspec": {
   "display_name": "Python 3",
   "language": "python",
   "name": "python3"
  },
  "language_info": {
   "codemirror_mode": {
    "name": "ipython",
    "version": 3
   },
   "file_extension": ".py",
   "mimetype": "text/x-python",
   "name": "python",
   "nbconvert_exporter": "python",
   "pygments_lexer": "ipython3",
   "version": "3.9.6"
  }
 },
 "nbformat": 4,
 "nbformat_minor": 2
}
