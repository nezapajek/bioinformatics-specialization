{
 "cells": [
  {
   "cell_type": "markdown",
   "metadata": {},
   "source": [
    "### Greedy Motif Search"
   ]
  },
  {
   "cell_type": "code",
   "execution_count": 35,
   "metadata": {},
   "outputs": [],
   "source": [
    "import numpy as np"
   ]
  },
  {
   "cell_type": "code",
   "execution_count": 36,
   "metadata": {},
   "outputs": [],
   "source": [
    "filename_test = 'data/greedy_motif_test2.txt'\n",
    "filename = 'data/greedy_motif_search_data.txt'"
   ]
  },
  {
   "cell_type": "code",
   "execution_count": 37,
   "metadata": {},
   "outputs": [],
   "source": [
    "def parse_data(file_path):\n",
    "    with open(file_path) as file:\n",
    "        lines = file.readlines()\n",
    "        dna = lines[1].split()\n",
    "        k, t = map(int, lines[0].strip().split())\n",
    "    return k, t, dna\n",
    "\n",
    "profile_row = {'A': 0, 'C':1, 'G':2, 'T':3}\n",
    "def make_profile(kMers):\n",
    "    if len(kMers) == 0:\n",
    "        print(\"\"\"None\"\"\")\n",
    "        return None\n",
    "\n",
    "    k = len(kMers[0])\n",
    "    t = len(kMers)\n",
    "    profile = list(dict())\n",
    "    for i in range(k):\n",
    "        profile_col = {'A':0, 'C':0, 'G':0, 'T':0}\n",
    "        for j in range(t):\n",
    "            profile_col[kMers[j][i]] += 1\n",
    "\n",
    "        for key in profile_col.keys():\n",
    "            profile_col[key] = 1.0 * profile_col[key] / t\n",
    "\n",
    "        profile.append(profile_col)\n",
    "\n",
    "    return profile\n",
    "\n",
    "def pattern_probability(profile, pattern):\n",
    "    probability = 1\n",
    "    for i in range(0, len(pattern)):\n",
    "        probability *= profile[i][pattern[i]]\n",
    "\n",
    "    return probability\n",
    "\n",
    "def profile_most_probable_kmer(dna, profile, k):\n",
    "    start = 0\n",
    "    length = len(dna)\n",
    "    max_probability = 0\n",
    "    most_probable = dna[0:k]\n",
    "    while start + k <= length:\n",
    "        substr = dna[start:start+k]\n",
    "        probability = pattern_probability(profile, substr)\n",
    "        if probability > max_probability:\n",
    "            most_probable = substr\n",
    "            max_probability = probability\n",
    "\n",
    "        start += 1\n",
    "\n",
    "    return most_probable\n",
    "\n",
    "def hamming_dist(str_one, str_two):\n",
    "\n",
    "    mismatches = 0\n",
    "    for i in range(len(str_one)):\n",
    "        if str_one[i] != str_two[i]:\n",
    "            mismatches += 1\n",
    "\n",
    "    return mismatches\n",
    "\n",
    "def make_consensus(motifes):\n",
    "    profile = make_profile(motifes)\n",
    "    consensusList = list()\n",
    "    for item in profile:\n",
    "        consensusList.append(max(item, key=item.get))\n",
    "\n",
    "    return ''.join(consensusList)\n",
    "\n",
    "def score(motifes):\n",
    "    consensus = make_consensus(motifes)\n",
    "    score = 0\n",
    "    for motif in motifes:\n",
    "        score += hamming_dist(consensus, motif)\n",
    "\n",
    "    return score\n",
    "\n",
    "def greedy_motif_search(Dna, k, t):\n",
    "    if len(Dna) == 0:\n",
    "        print (\"None!!!\")\n",
    "        return None\n",
    "\n",
    "    bestMotif = list()\n",
    "    for i in range(t):\n",
    "        bestMotif.append(Dna[i][0:k])\n",
    "\n",
    "    start = 0\n",
    "    length = len(Dna[0])\n",
    "    while start + k <= length:\n",
    "        motifes = list()\n",
    "        motifes.append(Dna[0][start:start+k])\n",
    "        for i in range(1, t):\n",
    "            profile = make_profile(motifes[0:i])\n",
    "            motifes.append(profile_most_probable_kmer(Dna[i], profile, k))\n",
    "\n",
    "        if score(motifes) < score(bestMotif):\n",
    "            bestMotif = motifes[:]\n",
    "\n",
    "        start += 1\n",
    "    return bestMotif"
   ]
  },
  {
   "cell_type": "code",
   "execution_count": 38,
   "metadata": {},
   "outputs": [
    {
     "name": "stdout",
     "output_type": "stream",
     "text": [
      "CAG CAG CAA CAA CAA\n"
     ]
    }
   ],
   "source": [
    "# test data\n",
    "k, t, dna = parse_data(filename_test)\n",
    "\n",
    "best_motifs = greedy_motif_search(dna, k, t)\n",
    "print(*best_motifs)"
   ]
  },
  {
   "cell_type": "code",
   "execution_count": 40,
   "metadata": {},
   "outputs": [
    {
     "name": "stdout",
     "output_type": "stream",
     "text": [
      "TAGCCGTAATAC CAGAGCGCCCCT CCACTTTGCTTA CAACTTTGCCCC ACCAAAATCTCC CCCCAAGAATTA TAGCTAAGATCC TAGCAAAGATCC TAGCGCAGATCC ACACTTGGATCA TAGCTTAGATCA CAACCTAGATAC TAGCGGAGATCA AAGCCCAGATCA AAGCGCAGATCT TAGCCTAGATCC TAGCCCAGATCT CAGCTGAGATCC CAGCTGAGATCC AAGCGAAGATCA AAGATCAGCTCC CCGACAGGATTA TAGCAAAGATCC TAACGTTGCCAT TTTGGTTCGCAG\n"
     ]
    }
   ],
   "source": [
    "# sample data\n",
    "k, t, dna = parse_data(filename)\n",
    "\n",
    "best_motifs = greedy_motif_search(dna, k, t)\n",
    "print(*best_motifs)"
   ]
  }
 ],
 "metadata": {
  "kernelspec": {
   "display_name": "Python 3",
   "language": "python",
   "name": "python3"
  },
  "language_info": {
   "codemirror_mode": {
    "name": "ipython",
    "version": 3
   },
   "file_extension": ".py",
   "mimetype": "text/x-python",
   "name": "python",
   "nbconvert_exporter": "python",
   "pygments_lexer": "ipython3",
   "version": "3.9.6"
  }
 },
 "nbformat": 4,
 "nbformat_minor": 2
}
