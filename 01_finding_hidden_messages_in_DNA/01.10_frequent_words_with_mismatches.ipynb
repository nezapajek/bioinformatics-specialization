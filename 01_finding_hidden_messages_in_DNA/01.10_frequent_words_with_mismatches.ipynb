{
 "cells": [
  {
   "cell_type": "markdown",
   "metadata": {},
   "source": [
    "#### Solve the Frequent Words with Mismatches Problem"
   ]
  },
  {
   "cell_type": "markdown",
   "metadata": {},
   "source": [
    "generate the d-neighborhood Neighbors(Pattern, d), the set of all k-mers whose Hamming distance from Pattern does not exceed d"
   ]
  },
  {
   "cell_type": "code",
   "execution_count": 51,
   "metadata": {},
   "outputs": [],
   "source": [
    "# define hamming_distance\n",
    "def hamming_distance(p, q):\n",
    "    return sum(1 for x, y in zip(p, q) if x != y)"
   ]
  },
  {
   "cell_type": "code",
   "execution_count": 52,
   "metadata": {},
   "outputs": [
    {
     "name": "stdout",
     "output_type": "stream",
     "text": [
      "Immediate neighbors of ACGT : ['GCGT', 'AGGT', 'ATGT', 'ACTT', 'TCGT', 'ACGG', 'CCGT', 'ACAT', 'ACGC', 'ACGT', 'AAGT', 'ACCT', 'ACGA']\n"
     ]
    }
   ],
   "source": [
    "# step1: generate a neighborhood (d=1)\n",
    "def immediate_neigbors(pattern):\n",
    "    neighborhood = {pattern}\n",
    "    nucleotides = ['A', 'C', 'G', 'T']\n",
    "    for i in range(len(pattern)):\n",
    "        symbol = pattern[i]\n",
    "        for x in nucleotides:\n",
    "            if x != symbol:\n",
    "                neighbor = pattern[:i] + x + pattern[i+1:]\n",
    "                neighborhood.add(neighbor)\n",
    "    return list(neighborhood)\n",
    "\n",
    "# test\n",
    "pattern = \"ACGT\"\n",
    "print(\"Immediate neighbors of\", pattern, \":\", immediate_neigbors(pattern))"
   ]
  },
  {
   "cell_type": "code",
   "execution_count": 53,
   "metadata": {},
   "outputs": [
    {
     "name": "stdout",
     "output_type": "stream",
     "text": [
      "Neighbors of ACGT with up to 2 mismatches: ['AGGT', 'TCGA', 'ATTT', 'ATGT', 'GAGT', 'ATGA', 'TCGG', 'TCAT', 'AGGC', 'ACAA', 'TGGT', 'ACAC', 'ATCT', 'AAAT', 'ACTA', 'ATAT', 'ACTT', 'AATT', 'AACT', 'AGTT', 'GTGT', 'CCCT', 'CAGT', 'ACGT', 'AAGA', 'GCCT', 'ACGA', 'GCGT', 'GGGT', 'ACTG', 'TTGT', 'ACGG', 'AGGG', 'ACCG', 'CCGG', 'CCAT', 'GCTT', 'ACGC', 'AAGG', 'AAGC', 'TCCT', 'CTGT', 'CCGA', 'GCGC', 'AGCT', 'CCGC', 'ACAG', 'CGGT', 'AGAT', 'GCGG', 'TCGT', 'ACCC', 'ATGG', 'AGGA', 'ACCT', 'CCTT', 'TCGC', 'ACAT', 'CCGT', 'ATGC', 'AAGT', 'ACCA', 'TAGT', 'GCGA', 'TCTT', 'ACTC', 'GCAT']\n"
     ]
    }
   ],
   "source": [
    "# step2: generate a neigborhood for any d (number of mismatches)\n",
    "# assumption: hamming distance <= d\n",
    "def neighbors(pattern, d):\n",
    "    nucleotides = ['A', 'C', 'G', 'T']\n",
    "\n",
    "    if d == 0:\n",
    "        return {pattern}\n",
    "    if len(pattern) == 1:\n",
    "        return set(nucleotides)\n",
    "\n",
    "    neighborhood = set()\n",
    "    suffix_neighbors = neighbors(pattern[1:], d) #recursive call\n",
    "\n",
    "    for text in suffix_neighbors:\n",
    "        if hamming_distance(pattern[1:], text) < d:\n",
    "            for x in nucleotides:\n",
    "                neighborhood.add(x + text)\n",
    "        else:\n",
    "            neighborhood.add(pattern[0] + text)\n",
    "\n",
    "    return list(neighborhood)\n",
    "\n",
    "# Test the function\n",
    "pattern = \"ACGT\"\n",
    "d = 2\n",
    "print(\"Neighbors of\", pattern, \"with up to\", d, \"mismatches:\", neighbors(pattern, d))"
   ]
  },
  {
   "cell_type": "code",
   "execution_count": 54,
   "metadata": {},
   "outputs": [],
   "source": [
    "# Define fucntion that returns most frequent words in a sequence of k-length with d-mismatches\n",
    "def frequent_words_with_mismatches(seq, k, d):\n",
    "    patterns = []\n",
    "    freq_map = {}\n",
    "    for i in range(0, len(seq)-k+1):\n",
    "        pattern = seq[i:i+k]\n",
    "        neighborhood = neighbors(pattern, d)\n",
    "        for j in range(0,len(neighborhood)-1):\n",
    "            neighbor = neighborhood[j]\n",
    "            freq_map[neighbor] = freq_map.get(neighbor, 0) + 1\n",
    "    m = max(freq_map.values())\n",
    "    for k in freq_map.keys():\n",
    "        if freq_map[k] == m:\n",
    "            patterns.append(k)\n",
    "    return patterns"
   ]
  },
  {
   "cell_type": "code",
   "execution_count": 65,
   "metadata": {},
   "outputs": [
    {
     "name": "stdout",
     "output_type": "stream",
     "text": [
      "Most frequent 4-kmers with up to 1 mismatches: ATGT GATG ATGC\n"
     ]
    }
   ],
   "source": [
    "sequence = 'ACGTTGCATGTCGCATGATGCATGAGAGCT'\n",
    "kmer_len = 4\n",
    "mismatch_n = 1\n",
    "\n",
    "# GATG ATGC ATGT\n",
    "print(f\"Most frequent {kmer_len}-kmers with up to {mismatch_n} mismatches:\", *frequent_words_with_mismatches(sequence, kmer_len, mismatch_n))"
   ]
  },
  {
   "cell_type": "code",
   "execution_count": 64,
   "metadata": {},
   "outputs": [
    {
     "name": "stdout",
     "output_type": "stream",
     "text": [
      "Most frequent 5-kmers with up to 3 mismatches: GCCGC\n"
     ]
    }
   ],
   "source": [
    "test_seq = open('/Users/npajek/Documents/fri_biolab/coursera/bioinformatics-specialization/01_finding_hidden_messages_in_DNA/data/frequent_words_with_mismatches.txt').read()\n",
    "test_k = 5\n",
    "test_d = 3\n",
    "\n",
    "print(f\"Most frequent {test_k}-kmers with up to {test_d} mismatches:\", *frequent_words_with_mismatches(test_seq, test_k, test_d))"
   ]
  }
 ],
 "metadata": {
  "kernelspec": {
   "display_name": "Python 3",
   "language": "python",
   "name": "python3"
  },
  "language_info": {
   "codemirror_mode": {
    "name": "ipython",
    "version": 3
   },
   "file_extension": ".py",
   "mimetype": "text/x-python",
   "name": "python",
   "nbconvert_exporter": "python",
   "pygments_lexer": "ipython3",
   "version": "3.9.6"
  }
 },
 "nbformat": 4,
 "nbformat_minor": 2
}
