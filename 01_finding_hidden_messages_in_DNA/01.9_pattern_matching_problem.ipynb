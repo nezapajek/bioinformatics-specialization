{
 "cells": [
  {
   "cell_type": "code",
   "execution_count": 69,
   "metadata": {},
   "outputs": [],
   "source": [
    "test = open('data/pattern_matching_data.txt').read()\n",
    "\n",
    "def parse_data(raw):\n",
    "    k_mer, seq, m_max = raw.split('\\n')\n",
    "    return k_mer.strip(), seq.strip(), int(m_max)\n",
    "\n",
    "k_mer, seq, m_max = parse_data(test)"
   ]
  },
  {
   "cell_type": "code",
   "execution_count": 70,
   "metadata": {},
   "outputs": [],
   "source": [
    "# calculate the number of mismatches between two sequences\n",
    "def approx_pattern_matching_idx(pattern, sequence, mismatch_max):\n",
    "    positions = []\n",
    "    for i in range(len(sequence)-len(pattern)+1):\n",
    "        window = sequence[i: i+len(pattern)]\n",
    "        hamming_distance = sum([n1 != n2 for n1,n2 in zip(pattern, window)])\n",
    "        if hamming_distance <= mismatch_max:\n",
    "            positions.append(i)\n",
    "    return positions"
   ]
  },
  {
   "cell_type": "code",
   "execution_count": 71,
   "metadata": {},
   "outputs": [
    {
     "name": "stdout",
     "output_type": "stream",
     "text": [
      "83 126 133 149 162 209 213 254 283 331 348 360 381 466 471 510 530 589 625 644 648 653 657 700 741 748 777 864 878 879 883 956 983 1060 1082 1105 1110 1115 1191 1235 1272 1318 1330 1358 1374 1428 1475 1554 1581 1627 1678 1704 1714 1729 1788 1796 1806 1810 1892 1911 1916 1932 1979 1983 1996 2015 2018 2031 2081 2115 2120 2127 2138 2184 2219 2231 2255 2270 2323 2347 2369 2454 2472 2495 2503 2538 2543 2565 2580 2712 2725 2729 2757 2762 2779 2817 2864 3021 3026 3113 3142 3163 3177 3215 3233 3250 3295 3311 3325 3351 3355 3382 3392 3426 3430 3439 3440 3470 3474 3498 3518 3525 3530 3557 3636 3645 3672 3711 3737 3785 3808 3819 3846 3854 3907 3923 3931 3960 3968 3969 4017 4026 4031 4038 4058 4059 4077 4082 4155 4168 4194 4195 4224 4271 4283 4288 4326 4332 4356 4374 4400 4418 4444 4457 4466 4480 4491 4546 4547 4566 4573 4608 4636 4660 4706 4730 4746 4772 4809 4878 4958 4972 5003 5014 5132 5136 5143 5260 5296 5366 5394 5415 5420 5498 5515 5538 5543 5572 5587 5614 5653 5654 5685 5696 5709 5744 5768 5814 5839 5843 5865 5876 5897 5917 5938 5981 6070 6084 6152 6162 6195 6209 6222 6229 6255 6317 6360 6373 6409 6426 6453 6463 6470 6547 6586 6619 6644 6762 6791 6794 6824 6864 6913 6971 6978 6985 6997 7018 7037 7046 7067 7076 7089 7185 7264 7268 7352 7382 7464 7483 7540 7591 7605 7630 7634 7640 7645 7689 7699 7717 7722 7745 7750 7765 7789 7795 7811 7921 7942 7970 7975 7981 8009 8042 8068 8111 8116 8182 8203 8204 8209 8225 8302 8325 8334 8339 8376 8448 8486 8530 8601 8606 8636 8716 8784 8789 8867 8894 8907 8917 8953 8958 8962 8986 9039 9059 9107 9127 9147 9187 9191 9301 9366 9373 9380 9428 9452 9554 9595 9654 9701 9733 9750 9757 9823 9860 9866 9878 9917 9918 9957 9971 9987 9992 10022 10053 10063 10120 10149 10189 10198 10203 10308 10386 10421 10441 10490 10505 10557 10571 10580 10596 10644 10684 10765 10821 10843 10880 10885 10996 11036 11055 11143 11155 11168 11172 11223 11258 11277 11286 11301 11329 11425 11531 11542 11567 11609 11620 11780 11900 11904 11924 11943 11946 12016 12028 12051 12070 12083 12096 12121 12234 12241 12248 12257 12293 12302 12310 12333 12340 12398 12407 12424 12458 12496 12525 12545 12547 12642 12662 12671 12682 12724 12791 12793 12827 12847 12920 12925 12982 13101 13113 13127 13140 13153 13158 13177 13183 13190 13214 13215 13219 13239 13251 13354 13377 13431 13479 13507 13514 13561 13586 13599 13604 13651 13700 13705 13710 13771 13844 13848 13881 13894 13898 13951 14014 14023 14038 14042 14043 14056 14093 14135 14139 14171 14198 14203 14241 14247 14287 14347 14384 14406 14413 14479 14488 14494 14516 14524 14542 14547 14562 14574 14647 14699 14720 14753 14763 14773 14796 14817 14822 14828 14852 14857 14862 14864 14882 14901 14967 14978 15029 15045 15109 15116 15134 15138 15235 15262 15267 15281 15282 15368 15402 15467 15495 15500 15579 15603 15635 15677 15694 15702 15709 15724 15734 15773 15782 15783 15818 15835 15836 15845 15850 15881 15888 15894 15939 16091 16117 16148 16163 16208 16215 16232 16255 16315 16406 16417 16529 16542 16587 16645 16662 16724 16762 16795 16830 16842 16855 16894 16911 16936 16941 17010 17038 17047 17090 17127 17137 17156 17160 17229 17236 17261 17319 17346 17372 17396 17407 17412 17418 17428 17429 17437 17479 17485 17511 17581\n"
     ]
    }
   ],
   "source": [
    "print(*approx_pattern_matching_idx(k_mer, seq, m_max), sep=' ')"
   ]
  },
  {
   "cell_type": "markdown",
   "metadata": {},
   "source": [
    "test"
   ]
  },
  {
   "cell_type": "code",
   "execution_count": null,
   "metadata": {},
   "outputs": [],
   "source": [
    "a = 'ATTCTGGA'\n",
    "b = 'CGCCCGAATCCAGAACGCATTCCCATATTTCGGGACCACTGGCCTCCACGGTACGGACGTCAATCAAAT'\n",
    "c = 3"
   ]
  },
  {
   "cell_type": "code",
   "execution_count": 77,
   "metadata": {},
   "outputs": [
    {
     "name": "stdout",
     "output_type": "stream",
     "text": [
      "6 7 26 27\n"
     ]
    }
   ],
   "source": [
    "print(*approx_pattern_matching_idx(a, b, c), sep=' ')"
   ]
  },
  {
   "cell_type": "markdown",
   "metadata": {},
   "source": [
    "count the number of occurences"
   ]
  },
  {
   "cell_type": "code",
   "execution_count": null,
   "metadata": {},
   "outputs": [],
   "source": [
    "d = 'AAAAA'\n",
    "e = 'AACAAGCTGATAAACATTTAAAGAG'\n",
    "f = 2"
   ]
  },
  {
   "cell_type": "code",
   "execution_count": 76,
   "metadata": {},
   "outputs": [
    {
     "name": "stdout",
     "output_type": "stream",
     "text": [
      "11\n"
     ]
    }
   ],
   "source": [
    "print(len(approx_pattern_matching_idx(d, e, f)), sep=' ')"
   ]
  },
  {
   "cell_type": "markdown",
   "metadata": {},
   "source": [
    "count the number of occurences 2"
   ]
  },
  {
   "cell_type": "code",
   "execution_count": 80,
   "metadata": {},
   "outputs": [],
   "source": [
    "g = 'TTTGAG'\n",
    "h = 'GTGTTCAGTGTCAGCCAACTTTCGCCTGTCGCACACGCTATGGGACTCCCAGGATGCGGCCCTAAGTTGAGGCCCCCCTATCAAGCGGCCATTCCATGGTTATAGTACATTTCCGGCTCGACTCCCTCAAAACCATGGTCAGACAACAGAACGATTTTGAGTCCATCAGCGTAATCTGGCCAGTTGATTTCCCTTGTCTTGGGAACTTGCCTGAAGCCAGCTCTGCAACTGCATCGCGATCTTGTGGCGTCTAGATTCATATAGGGCAGGACGCTCAATCAAGGTTACCTATACTACTAGTGGTTCCTTATCGCAGCGATCAAGCGCTGCATTAGCCATTTCCATAACTTAAACTTAGAGACTCGTAAACAGGTCACG'\n",
    "i = 3"
   ]
  },
  {
   "cell_type": "code",
   "execution_count": 81,
   "metadata": {},
   "outputs": [
    {
     "name": "stdout",
     "output_type": "stream",
     "text": [
      "64\n"
     ]
    }
   ],
   "source": [
    "print(len(approx_pattern_matching_idx(g, h, i)), sep=' ')"
   ]
  }
 ],
 "metadata": {
  "kernelspec": {
   "display_name": "Python 3",
   "language": "python",
   "name": "python3"
  },
  "language_info": {
   "codemirror_mode": {
    "name": "ipython",
    "version": 3
   },
   "file_extension": ".py",
   "mimetype": "text/x-python",
   "name": "python",
   "nbconvert_exporter": "python",
   "pygments_lexer": "ipython3",
   "version": "3.9.6"
  }
 },
 "nbformat": 4,
 "nbformat_minor": 2
}
