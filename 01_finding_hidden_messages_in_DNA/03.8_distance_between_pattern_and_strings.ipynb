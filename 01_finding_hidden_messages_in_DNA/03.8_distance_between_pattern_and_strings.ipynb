{
 "cells": [
  {
   "cell_type": "markdown",
   "metadata": {},
   "source": [
    "Median String Problem"
   ]
  },
  {
   "cell_type": "code",
   "execution_count": 6,
   "metadata": {},
   "outputs": [],
   "source": [
    "filename_test = 'data/21_sample_input.txt'\n",
    "filename = 'data/21_dataset.txt'"
   ]
  },
  {
   "cell_type": "code",
   "execution_count": 7,
   "metadata": {},
   "outputs": [],
   "source": [
    "def parse_data(file_path):\n",
    "    with open(file_path) as file:\n",
    "        lines = file.readlines()\n",
    "        dna = lines[1].split()\n",
    "        pattern = lines[0].strip()\n",
    "    return pattern, dna\n",
    "\n",
    "def hamming_distance(s1, s2):\n",
    "    return sum(c1 != c2 for c1, c2 in zip(s1, s2))\n",
    "\n",
    "def distance_between_pattern_and_strings(pattern, dna):\n",
    "    k = len(pattern)\n",
    "    distance = 0\n",
    "    for string in dna:\n",
    "        hammingdistance = float(\"inf\")\n",
    "        for i in range(len(string) - k + 1):\n",
    "            if hammingdistance > hamming_distance(pattern, string[i:i + k]):\n",
    "                hammingdistance = hamming_distance(pattern, string[i:i + k])\n",
    "        distance = distance + hammingdistance\n",
    "    return distance"
   ]
  },
  {
   "cell_type": "code",
   "execution_count": 8,
   "metadata": {},
   "outputs": [
    {
     "data": {
      "text/plain": [
       "5"
      ]
     },
     "execution_count": 8,
     "metadata": {},
     "output_type": "execute_result"
    }
   ],
   "source": [
    "# sample data\n",
    "pattern, dna = parse_data(filename_test)\n",
    "distance_between_pattern_and_strings(pattern, dna)"
   ]
  },
  {
   "cell_type": "code",
   "execution_count": 9,
   "metadata": {},
   "outputs": [
    {
     "data": {
      "text/plain": [
       "72"
      ]
     },
     "execution_count": 9,
     "metadata": {},
     "output_type": "execute_result"
    }
   ],
   "source": [
    "# test data\n",
    "pattern, dna = parse_data(filename)\n",
    "distance_between_pattern_and_strings(pattern, dna)"
   ]
  }
 ],
 "metadata": {
  "kernelspec": {
   "display_name": "Python 3",
   "language": "python",
   "name": "python3"
  },
  "language_info": {
   "codemirror_mode": {
    "name": "ipython",
    "version": 3
   },
   "file_extension": ".py",
   "mimetype": "text/x-python",
   "name": "python",
   "nbconvert_exporter": "python",
   "pygments_lexer": "ipython3",
   "version": "3.9.6"
  }
 },
 "nbformat": 4,
 "nbformat_minor": 2
}
