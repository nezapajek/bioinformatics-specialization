{
 "cells": [
  {
   "cell_type": "markdown",
   "metadata": {},
   "source": [
    "Code Challenge: Implement GibbsSampler.\n",
    "\n",
    "Input: Integers k, t, and N, followed by a space-separated collection of strings Dna.\n",
    "Output: The strings BestMotifs resulting from running GibbsSampler(Dna, k, t, N) with 20 random starts. Remember to use pseudocounts!"
   ]
  },
  {
   "cell_type": "code",
   "execution_count": 32,
   "metadata": {},
   "outputs": [],
   "source": [
    "filename_test = 'data/04.2_sample_input.txt'\n",
    "filename = 'data/04.2_dataset.txt'"
   ]
  },
  {
   "cell_type": "code",
   "execution_count": 33,
   "metadata": {},
   "outputs": [],
   "source": [
    "def parse_data(file_path):\n",
    "    with open(file_path) as file:\n",
    "        lines = file.readlines()\n",
    "        dna = lines[1].split()\n",
    "        k, t, N = map(int, lines[0].strip().split())\n",
    "    return k, t, N, dna\n",
    "\n",
    "k, t, N, dna = parse_data(filename)"
   ]
  },
  {
   "cell_type": "code",
   "execution_count": 36,
   "metadata": {},
   "outputs": [],
   "source": [
    "from random import randint, choice\n",
    "import numpy\n",
    "\n",
    "def score(motifs):\n",
    "    score = 0\n",
    "    for i in range(len(motifs[0])):\n",
    "        motif = ''.join([motifs[j][i] for j in range(len(motifs))])\n",
    "        score += min([hamming_distance(motif, homogeneous*len(motif)) for homogeneous in 'ACGT'])\n",
    "    return score\n",
    "\n",
    "def profile_with_pseudocounts(motifs):\n",
    "    prof = []\n",
    "    for i in range(len(motifs[0])):\n",
    "        col = ''.join([motifs[j][i] for j in range(len(motifs))])\n",
    "        prof.append([float(col.count(nuc)+1)/float(len(col)+4) for nuc in 'ACGT'])\n",
    "    return prof\n",
    "\n",
    "def profile_most_probable_kmer(dna, k, prof):\n",
    "    nuc_loc = {nucleotide:index for index,nucleotide in enumerate('ACGT')}\n",
    "    max_prob = [-1, None]\n",
    "    for i in range(len(dna)-k+1):\n",
    "        current_prob = 1\n",
    "        for j, nucleotide in enumerate(dna[i:i+k]):\n",
    "            current_prob *= prof[j][nuc_loc[nucleotide]]\n",
    "        if current_prob > max_prob[0]:\n",
    "            max_prob = [current_prob, dna[i:i+k]]\n",
    "\n",
    "    return max_prob[1]\n",
    "\n",
    "def motifs_from_profile(profile, dna, k):\n",
    "    return [profile_most_probable_kmer(seq,k,profile) for seq in dna]\n",
    "\n",
    "def randomized_motif_search(dna_list,k,t):\n",
    "    rand_ints = [randint(0,len(dna_list[0])-k) for a in range(t)]\n",
    "    motifs = [dna_list[i][r:r+k] for i,r in enumerate(rand_ints)]\n",
    "\n",
    "    # Initialize the best score as a score higher than the highest possible score.\n",
    "    best_score = [score(motifs), motifs]\n",
    "\n",
    "    # Iterate motifs.\n",
    "    while True:\n",
    "        current_profile = profile_with_pseudocounts(motifs)\n",
    "        motifs = motifs_from_profile(current_profile, dna_list, k)\n",
    "        current_score = score(motifs)\n",
    "        if current_score < best_score[0]:\n",
    "            best_score = [current_score, motifs]\n",
    "        else:\n",
    "            return best_score\n",
    "\n",
    "def hamming_distance(str1, str2):\n",
    "    counter = 0\n",
    "    for s1, s2 in zip(str1, str2):\n",
    "        if s1 != s2:\n",
    "            counter += 1\n",
    "    return counter\n",
    "\n",
    "\n",
    "def profile_randomized_kmer(dna, k, prof):\n",
    "    nuc_loc = {nucleotide: index for index, nucleotide in enumerate('ACGT')}\n",
    "    probs = []\n",
    "    for i in range(len(dna) - k):\n",
    "        current_prob = 1.\n",
    "        for j, nucleotide in enumerate(dna[i:i + k]):\n",
    "            current_prob *= prof[j][nuc_loc[nucleotide]]\n",
    "        probs.append(current_prob)\n",
    "\n",
    "    i = numpy.random.choice(len(probs), p = numpy.array(probs) / numpy.sum(probs))\n",
    "    return dna[i:i + k]\n",
    "\n",
    "\n",
    "def gibbs_sampling_motif_search(dna_list, k, t, N, init_motifs=None):\n",
    "    if init_motifs:\n",
    "        motifs = init_motifs\n",
    "    else:\n",
    "        rand_ints = [randint(0, len(dna_list[0]) - k) for a in range(t)]\n",
    "        motifs = [dna_list[i][r:r + k] for i, r in enumerate(rand_ints)]\n",
    "\n",
    "    best_score = [score(motifs), list(motifs)]\n",
    "\n",
    "    for j in range(N):\n",
    "        i = randint(0, t - 1)\n",
    "        current_profile = profile_with_pseudocounts([x for amotif, x in enumerate(motifs) if amotif != i])\n",
    "        motifs[i] = profile_randomized_kmer(dna_list[i], k, current_profile)\n",
    "        current_score = score(motifs)\n",
    "        if current_score < best_score[0]:\n",
    "            best_score = [current_score, list(motifs)]\n",
    "\n",
    "    return best_score"
   ]
  },
  {
   "cell_type": "code",
   "execution_count": 37,
   "metadata": {},
   "outputs": [
    {
     "name": "stdout",
     "output_type": "stream",
     "text": [
      "ATAGGCACACAGCCA CTACTAACAGACCAT CTAGGTACAGACACG CTATTGACAGACCAT CTAGAGTCAGACCAT CTTATTACAGACCAT CTAGGTACAGTGTAT GGAGGTACAGACCAA CTAGGAGTAGACCAT CTAGGTTACGACCAT GAGGGTACAGACCAT CTAGACGCAGACCAT CTAGGCTTAGACCAT CTAGGTACACTTCAT CTAGGTATTAACCAT CGGAGTACAGACCAT CTAGGTACAGATGCT CTAGGTGGCGACCAT CTAGGTACTCCCCAT TTAGGTACAGACCGG\n"
     ]
    }
   ],
   "source": [
    "best_motifs = [k * t, None]\n",
    "for repeat in range(20):\n",
    "    current_motifs = gibbs_sampling_motif_search(dna, k, t, N)\n",
    "    if current_motifs[0] < best_motifs[0]:\n",
    "        best_motifs = current_motifs\n",
    "print(' '.join(best_motifs[1]))"
   ]
  }
 ],
 "metadata": {
  "kernelspec": {
   "display_name": "Python 3",
   "language": "python",
   "name": "python3"
  },
  "language_info": {
   "codemirror_mode": {
    "name": "ipython",
    "version": 3
   },
   "file_extension": ".py",
   "mimetype": "text/x-python",
   "name": "python",
   "nbconvert_exporter": "python",
   "pygments_lexer": "ipython3",
   "version": "3.9.6"
  }
 },
 "nbformat": 4,
 "nbformat_minor": 2
}
