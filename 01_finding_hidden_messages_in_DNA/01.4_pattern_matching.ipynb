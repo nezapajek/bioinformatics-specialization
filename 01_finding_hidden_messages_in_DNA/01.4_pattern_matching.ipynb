{
 "cells": [
  {
   "cell_type": "markdown",
   "metadata": {},
   "source": [
    "Solve the Pattern Matching Problem"
   ]
  },
  {
   "cell_type": "code",
   "execution_count": 1,
   "metadata": {},
   "outputs": [],
   "source": [
    "def pattern_idxs(sequence, pattern):\n",
    "    idxs = []\n",
    "    for idx,_ in enumerate(sequence):\n",
    "        if sequence[idx:idx+len(pattern)] == pattern:\n",
    "            idxs.append(idx)\n",
    "    return idxs"
   ]
  },
  {
   "cell_type": "code",
   "execution_count": 2,
   "metadata": {},
   "outputs": [
    {
     "data": {
      "text/plain": [
       "[0, 1, 12]"
      ]
     },
     "execution_count": 2,
     "metadata": {},
     "output_type": "execute_result"
    }
   ],
   "source": [
    "s = 'AAACATAGGATCAAC'\n",
    "p = 'AA'\n",
    "pattern_idxs(s, p)"
   ]
  },
  {
   "cell_type": "code",
   "execution_count": 5,
   "metadata": {},
   "outputs": [
    {
     "name": "stdout",
     "output_type": "stream",
     "text": [
      "84 129 155 187 206 213 220 227 266 284 291 318 453 484 493 515 568 631 647 654 669 676 683 690 708 723 861 868 883 919 935 951 967 982 1005 1016 1031 1108 1195 1223 1230 1254 1281 1288 1295 1330 1337 1365 1421 1455 1605 1612 1634 1683 1690 1734 1741 1766 1773 1792 1799 1844 1859 1922 1939 1957 2002 2019 2150 2180 2235 2311 2318 2338 2347 2370 2473 2524 2698 2708 2715 2726 2996 3060 3097 3154 3212 3239 3292 3299 3306 3333 3340 3432 3439 3476 3483 3506 3530 3537 3557 3577 3593 3608 3772 3779 3806 3829 3836 3859 3879 3930 3937 3989 4023 4052 4059 4120 4162 4185 4277 4301 4319 4342 4349 4366 4405 4518 4552 4559 4604 4707 4755 4790 4839 4846 4875 4891 4975 5017 5043 5060 5067 5082 5119 5126 5146 5153 5274 5290 5312 5319 5351 5385 5392 5402 5422 5459 5483 5525 5532 5559 5566 5608 5617 5707 5723 5751 5760 5810 5834 5841 5977 6076 6083 6098 6115 6143 6189 6196 6243 6268 6310 6402 6409 6503 6538 6561 6612 6646 6669 6687 6736 6788 6797 6846 6951 6989 6996 7003 7052 7059 7070 7132 7201 7208 7254 7285 7292 7299 7362 7369 7376 7443 7450 7508 7515 7522 7529 7581 7624 7675 7691 7724 7739 7750 7757 7787 7794 7816 7842 7857 7871 7891 7919 7926 7933 7960 7979 7986 8075 8125 8160 8203 8210 8217 8286 8301 8308 8330 8367 8410 8463 8478 8502 8586 8601 8619 8642 8659 8698 8709 8844 8928 8966 9000 9007 9014 9026\n"
     ]
    }
   ],
   "source": [
    "pat = 'AGACGTTAG'\n",
    "seq = open('data/pattern_matching.txt').read()\n",
    "result = pattern_idxs(seq, pat)\n",
    "print(*result, sep=' ')"
   ]
  },
  {
   "cell_type": "markdown",
   "metadata": {},
   "source": [
    "Return a space-separated list of starting positions (in increasing order) where CTTGATCAT appears as a substring in the Vibrio cholerae genome."
   ]
  },
  {
   "cell_type": "code",
   "execution_count": 6,
   "metadata": {},
   "outputs": [],
   "source": [
    "vibrio = open('data/Vibrio_cholerae.txt').read()\n",
    "v_pattern = 'CTTGATCAT'"
   ]
  },
  {
   "cell_type": "code",
   "execution_count": 7,
   "metadata": {},
   "outputs": [],
   "source": [
    "vibrio_result = pattern_idxs(vibrio, v_pattern)"
   ]
  },
  {
   "cell_type": "code",
   "execution_count": 8,
   "metadata": {},
   "outputs": [
    {
     "name": "stdout",
     "output_type": "stream",
     "text": [
      "60039 98409 129189 152283 152354 152411 163207 197028 200160 357976 376771 392723 532935 600085 622755 1065555\n"
     ]
    }
   ],
   "source": [
    "print(*vibrio_result, sep=' ')"
   ]
  }
 ],
 "metadata": {
  "kernelspec": {
   "display_name": "Python 3",
   "language": "python",
   "name": "python3"
  },
  "language_info": {
   "codemirror_mode": {
    "name": "ipython",
    "version": 3
   },
   "file_extension": ".py",
   "mimetype": "text/x-python",
   "name": "python",
   "nbconvert_exporter": "python",
   "pygments_lexer": "ipython3",
   "version": "3.9.6"
  }
 },
 "nbformat": 4,
 "nbformat_minor": 2
}
