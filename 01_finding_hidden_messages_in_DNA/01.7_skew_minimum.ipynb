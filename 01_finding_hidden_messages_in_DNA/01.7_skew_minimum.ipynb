{
 "cells": [
  {
   "cell_type": "code",
   "execution_count": 1,
   "metadata": {},
   "outputs": [],
   "source": [
    "seq = open('data/min_skew_data.txt').read()"
   ]
  },
  {
   "cell_type": "code",
   "execution_count": 2,
   "metadata": {},
   "outputs": [
    {
     "name": "stdout",
     "output_type": "stream",
     "text": [
      "Indices with minimal skew: 67076 67077\n"
     ]
    }
   ],
   "source": [
    "def min_skew_idx(sequence):\n",
    "    skew = 0\n",
    "    skew_list = [0] + [skew := skew + (1 if nt == 'G' else -1 if nt == 'C' else 0) for nt in sequence]\n",
    "    min_value = min(skew_list)\n",
    "    min_indices = [i for i, x in enumerate(skew_list) if x == min_value]\n",
    "    return min_indices\n",
    "\n",
    "# Test the function\n",
    "min_skew_indices = min_skew_idx(seq)\n",
    "print(\"Indices with minimal skew:\", *min_skew_indices, sep=' ')"
   ]
  }
 ],
 "metadata": {
  "kernelspec": {
   "display_name": "Python 3",
   "language": "python",
   "name": "python3"
  },
  "language_info": {
   "codemirror_mode": {
    "name": "ipython",
    "version": 3
   },
   "file_extension": ".py",
   "mimetype": "text/x-python",
   "name": "python",
   "nbconvert_exporter": "python",
   "pygments_lexer": "ipython3",
   "version": "3.9.6"
  }
 },
 "nbformat": 4,
 "nbformat_minor": 2
}
